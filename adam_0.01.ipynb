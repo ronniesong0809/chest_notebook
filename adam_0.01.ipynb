{
  "nbformat": 4,
  "nbformat_minor": 0,
  "metadata": {
    "colab": {
      "name": "chestX-ray-revised.ipynb",
      "provenance": []
    },
    "kernelspec": {
      "name": "python3",
      "display_name": "Python 3"
    },
    "accelerator": "GPU"
  },
  "cells": [
    {
      "cell_type": "code",
      "metadata": {
        "id": "-sWA-AbmbU32",
        "colab_type": "code",
        "colab": {}
      },
      "source": [
        "!echo '{\"username\":\"ronniesong0809\",\"key\":\"269788090750b1eb7d55a04d86886708\"}' > kaggle.json"
      ],
      "execution_count": 0,
      "outputs": []
    },
    {
      "cell_type": "code",
      "metadata": {
        "id": "rZnw1gNWbY77",
        "colab_type": "code",
        "colab": {}
      },
      "source": [
        "!cp /content/kaggle.json /root/.kaggle/kaggle.json"
      ],
      "execution_count": 0,
      "outputs": []
    },
    {
      "cell_type": "code",
      "metadata": {
        "id": "GNDb_Vr3et2T",
        "colab_type": "code",
        "colab": {}
      },
      "source": [
        "!chmod 600 /root/.kaggle/kaggle.json"
      ],
      "execution_count": 0,
      "outputs": []
    },
    {
      "cell_type": "code",
      "metadata": {
        "id": "KYlJGLcjeumo",
        "colab_type": "code",
        "colab": {}
      },
      "source": [
        "!kaggle config set -n path -v/content"
      ],
      "execution_count": 0,
      "outputs": []
    },
    {
      "cell_type": "code",
      "metadata": {
        "id": "K-O0_tbfbZ6P",
        "colab_type": "code",
        "colab": {}
      },
      "source": [
        "!kaggle datasets download -d paultimothymooney/chest-xray-pneumonia\n",
        "!kaggle datasets download -d keras/vgg19"
      ],
      "execution_count": 0,
      "outputs": []
    },
    {
      "cell_type": "code",
      "metadata": {
        "id": "v6nqYWutbcxl",
        "colab_type": "code",
        "colab": {}
      },
      "source": [
        "!unzip datasets/paultimothymooney/chest-xray-pneumonia/chest-xray-pneumonia.zip\n",
        "!unzip datasets/keras/vgg19/vgg19.zip"
      ],
      "execution_count": 0,
      "outputs": []
    },
    {
      "cell_type": "code",
      "metadata": {
        "id": "bE0R_QBrbgxU",
        "colab_type": "code",
        "colab": {}
      },
      "source": [
        "from tensorflow.keras.applications import VGG19\n",
        "from tensorflow.keras.models import Sequential\n",
        "from tensorflow.keras.layers import Dense, Flatten, GlobalAveragePooling2D\n",
        "\n",
        "num_classes = 2\n",
        "# resnet_weights_path = '../input/resnet50/resnet50_weights_tf_dim_ordering_tf_kernels_notop.h5'\n",
        "vgg_weights_path = 'vgg19_weights_tf_dim_ordering_tf_kernels_notop.h5'\n",
        "\n",
        "my_new_model = Sequential()\n",
        "model_VGG19 = VGG19(include_top=False, pooling='avg', weights=vgg_weights_path)\n",
        "my_new_model.add(model_VGG19)\n",
        "my_new_model.add(Dense(num_classes, activation='softmax'))\n",
        "\n",
        "# Indicate whether the first layer should be trained/changed or not.\n",
        "my_new_model.layers[0].trainable = False"
      ],
      "execution_count": 0,
      "outputs": []
    },
    {
      "cell_type": "code",
      "metadata": {
        "id": "dY-kzhZ9bhuf",
        "colab_type": "code",
        "outputId": "c7eecdd4-9326-4bdd-fae6-b8eea8b26958",
        "colab": {
          "base_uri": "https://localhost:8080/",
          "height": 935
        }
      },
      "source": [
        "model_VGG19.summary()"
      ],
      "execution_count": 94,
      "outputs": [
        {
          "output_type": "stream",
          "text": [
            "Model: \"vgg19\"\n",
            "_________________________________________________________________\n",
            "Layer (type)                 Output Shape              Param #   \n",
            "=================================================================\n",
            "input_8 (InputLayer)         [(None, None, None, 3)]   0         \n",
            "_________________________________________________________________\n",
            "block1_conv1 (Conv2D)        (None, None, None, 64)    1792      \n",
            "_________________________________________________________________\n",
            "block1_conv2 (Conv2D)        (None, None, None, 64)    36928     \n",
            "_________________________________________________________________\n",
            "block1_pool (MaxPooling2D)   (None, None, None, 64)    0         \n",
            "_________________________________________________________________\n",
            "block2_conv1 (Conv2D)        (None, None, None, 128)   73856     \n",
            "_________________________________________________________________\n",
            "block2_conv2 (Conv2D)        (None, None, None, 128)   147584    \n",
            "_________________________________________________________________\n",
            "block2_pool (MaxPooling2D)   (None, None, None, 128)   0         \n",
            "_________________________________________________________________\n",
            "block3_conv1 (Conv2D)        (None, None, None, 256)   295168    \n",
            "_________________________________________________________________\n",
            "block3_conv2 (Conv2D)        (None, None, None, 256)   590080    \n",
            "_________________________________________________________________\n",
            "block3_conv3 (Conv2D)        (None, None, None, 256)   590080    \n",
            "_________________________________________________________________\n",
            "block3_conv4 (Conv2D)        (None, None, None, 256)   590080    \n",
            "_________________________________________________________________\n",
            "block3_pool (MaxPooling2D)   (None, None, None, 256)   0         \n",
            "_________________________________________________________________\n",
            "block4_conv1 (Conv2D)        (None, None, None, 512)   1180160   \n",
            "_________________________________________________________________\n",
            "block4_conv2 (Conv2D)        (None, None, None, 512)   2359808   \n",
            "_________________________________________________________________\n",
            "block4_conv3 (Conv2D)        (None, None, None, 512)   2359808   \n",
            "_________________________________________________________________\n",
            "block4_conv4 (Conv2D)        (None, None, None, 512)   2359808   \n",
            "_________________________________________________________________\n",
            "block4_pool (MaxPooling2D)   (None, None, None, 512)   0         \n",
            "_________________________________________________________________\n",
            "block5_conv1 (Conv2D)        (None, None, None, 512)   2359808   \n",
            "_________________________________________________________________\n",
            "block5_conv2 (Conv2D)        (None, None, None, 512)   2359808   \n",
            "_________________________________________________________________\n",
            "block5_conv3 (Conv2D)        (None, None, None, 512)   2359808   \n",
            "_________________________________________________________________\n",
            "block5_conv4 (Conv2D)        (None, None, None, 512)   2359808   \n",
            "_________________________________________________________________\n",
            "block5_pool (MaxPooling2D)   (None, None, None, 512)   0         \n",
            "_________________________________________________________________\n",
            "global_average_pooling2d_5 ( (None, 512)               0         \n",
            "=================================================================\n",
            "Total params: 20,024,384\n",
            "Trainable params: 0\n",
            "Non-trainable params: 20,024,384\n",
            "_________________________________________________________________\n"
          ],
          "name": "stdout"
        }
      ]
    },
    {
      "cell_type": "code",
      "metadata": {
        "id": "dnIVBj6dbjc7",
        "colab_type": "code",
        "outputId": "2b64da04-b22d-4feb-bcac-040121f4e278",
        "colab": {
          "base_uri": "https://localhost:8080/",
          "height": 221
        }
      },
      "source": [
        "my_new_model.summary()"
      ],
      "execution_count": 95,
      "outputs": [
        {
          "output_type": "stream",
          "text": [
            "Model: \"sequential_7\"\n",
            "_________________________________________________________________\n",
            "Layer (type)                 Output Shape              Param #   \n",
            "=================================================================\n",
            "vgg19 (Model)                (None, 512)               20024384  \n",
            "_________________________________________________________________\n",
            "dense_7 (Dense)              (None, 2)                 1026      \n",
            "=================================================================\n",
            "Total params: 20,025,410\n",
            "Trainable params: 1,026\n",
            "Non-trainable params: 20,024,384\n",
            "_________________________________________________________________\n"
          ],
          "name": "stdout"
        }
      ]
    },
    {
      "cell_type": "code",
      "metadata": {
        "id": "8nAlpWmQqDt6",
        "colab_type": "code",
        "colab": {}
      },
      "source": [
        "from tensorflow.keras.optimizers import Adam,RMSprop,SGD"
      ],
      "execution_count": 0,
      "outputs": []
    },
    {
      "cell_type": "code",
      "metadata": {
        "id": "4FHMdFauqCQV",
        "colab_type": "code",
        "colab": {}
      },
      "source": [
        "# my_new_model.compile(optimizer='sgd', loss='categorical_crossentropy', metrics=['accuracy'])\n",
        "my_new_model.compile(Adam(lr=0.01), loss='categorical_crossentropy', metrics=['accuracy'])"
      ],
      "execution_count": 0,
      "outputs": []
    },
    {
      "cell_type": "code",
      "metadata": {
        "id": "YrABUw37blWv",
        "colab_type": "code",
        "outputId": "a525a8ae-294a-46af-def4-6b5236159dc8",
        "colab": {
          "base_uri": "https://localhost:8080/",
          "height": 68
        }
      },
      "source": [
        "from tensorflow.keras.applications.vgg19 import preprocess_input\n",
        "from tensorflow.keras.preprocessing.image import ImageDataGenerator\n",
        "\n",
        "image_size = 224\n",
        "data_generator = ImageDataGenerator(preprocessing_function = preprocess_input)\n",
        "\n",
        "train_generator = data_generator.flow_from_directory(\n",
        "                                        directory=\"chest_xray/chest_xray/train\",\n",
        "                                        target_size=(image_size, image_size),\n",
        "                                        batch_size=16,\n",
        "                                        class_mode='categorical')\n",
        "\n",
        "validation_generator = data_generator.flow_from_directory(\n",
        "                                        directory=\"chest_xray/chest_xray/val\",\n",
        "                                        target_size=(image_size, image_size),\n",
        "                                        class_mode='categorical')\n",
        "\n",
        "test_generator = data_generator.flow_from_directory(\n",
        "                                        directory=\"chest_xray/chest_xray/test\",\n",
        "                                        target_size=(image_size, image_size),\n",
        "                                        class_mode='categorical')"
      ],
      "execution_count": 98,
      "outputs": [
        {
          "output_type": "stream",
          "text": [
            "Found 5216 images belonging to 2 classes.\n",
            "Found 16 images belonging to 2 classes.\n",
            "Found 624 images belonging to 2 classes.\n"
          ],
          "name": "stdout"
        }
      ]
    },
    {
      "cell_type": "code",
      "metadata": {
        "id": "G9HXLg9UbmHi",
        "colab_type": "code",
        "outputId": "43dae7d5-ba4c-4e1c-cd36-268d2be71fcc",
        "colab": {
          "base_uri": "https://localhost:8080/",
          "height": 187
        }
      },
      "source": [
        "# fit_stats below saves some statistics describing how model fitting went\n",
        "# the key role of the following line is how it changes my_new_model by fitting to data\n",
        "fit_stats = my_new_model.fit_generator(train_generator, epochs=5, validation_data=validation_generator, validation_steps=1, verbose=1)"
      ],
      "execution_count": 99,
      "outputs": [
        {
          "output_type": "stream",
          "text": [
            "Epoch 1/5\n",
            "326/326 [==============================] - 63s 194ms/step - loss: 0.3558 - accuracy: 0.9385 - val_loss: 0.9498 - val_accuracy: 0.8125\n",
            "Epoch 2/5\n",
            "326/326 [==============================] - 64s 196ms/step - loss: 0.1948 - accuracy: 0.9664 - val_loss: 2.6095 - val_accuracy: 0.5625\n",
            "Epoch 3/5\n",
            "326/326 [==============================] - 64s 197ms/step - loss: 0.2659 - accuracy: 0.9641 - val_loss: 0.6942 - val_accuracy: 0.9375\n",
            "Epoch 4/5\n",
            "326/326 [==============================] - 63s 194ms/step - loss: 0.1132 - accuracy: 0.9827 - val_loss: 0.8082 - val_accuracy: 0.8125\n",
            "Epoch 5/5\n",
            "326/326 [==============================] - 63s 193ms/step - loss: 0.1234 - accuracy: 0.9780 - val_loss: 0.7287 - val_accuracy: 0.9375\n"
          ],
          "name": "stdout"
        }
      ]
    },
    {
      "cell_type": "code",
      "metadata": {
        "id": "LBtVbO3svg6w",
        "colab_type": "code",
        "outputId": "6859c08a-e81f-45bd-b0d7-a0020053afa2",
        "colab": {
          "base_uri": "https://localhost:8080/",
          "height": 295
        }
      },
      "source": [
        "import matplotlib.pyplot as plt\n",
        "\n",
        "plt.plot(fit_stats.history['accuracy'])\n",
        "plt.plot(fit_stats.history['val_accuracy'])\n",
        "plt.title('Model Accuracy')\n",
        "plt.ylabel('Accuracy')\n",
        "plt.xlabel('Epochs')\n",
        "plt.legend(['train', 'val'])\n",
        "plt.show()"
      ],
      "execution_count": 100,
      "outputs": [
        {
          "output_type": "display_data",
          "data": {
            "image/png": "[encoded data removed]",
            "text/plain": [
              "<Figure size 432x288 with 1 Axes>"
            ]
          },
          "metadata": {
            "tags": [],
            "needs_background": "light"
          }
        }
      ]
    },
    {
      "cell_type": "code",
      "metadata": {
        "id": "luqUj-T6vpAg",
        "colab_type": "code",
        "outputId": "d6fa484d-a5ad-40e8-91fe-91a949e2d8da",
        "colab": {
          "base_uri": "https://localhost:8080/",
          "height": 295
        }
      },
      "source": [
        "plt.plot(fit_stats.history['loss'])\n",
        "plt.plot(fit_stats.history['val_loss'])\n",
        "plt.title('Model Loss')\n",
        "plt.ylabel('Loss')\n",
        "plt.xlabel('Epochs')\n",
        "plt.legend(['train', 'val'])\n",
        "plt.show()"
      ],
      "execution_count": 101,
      "outputs": [
        {
          "output_type": "display_data",
          "data": {
            "image/png": "[encoded data removed]",
            "text/plain": [
              "<Figure size 432x288 with 1 Axes>"
            ]
          },
          "metadata": {
            "tags": [],
            "needs_background": "light"
          }
        }
      ]
    }
  ]
}